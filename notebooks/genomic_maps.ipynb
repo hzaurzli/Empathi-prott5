{
 "cells": [
  {
   "cell_type": "code",
   "execution_count": 2,
   "id": "3294bf37-aaa3-4a95-a79c-05d01b83f7e1",
   "metadata": {},
   "outputs": [],
   "source": [
    "import pandas as pd\n",
    "import numpy as np\n",
    "\n",
    "import matplotlib.pyplot as plt\n",
    "from matplotlib.colors import ListedColormap"
   ]
  },
  {
   "cell_type": "code",
   "execution_count": 3,
   "id": "3772db02-f7f0-474f-ae6c-25c674c75a3b",
   "metadata": {},
   "outputs": [],
   "source": [
    "cols = {\"pvp\":np.array([62, 150, 205]),\n",
    "        \"DNA-associated\":np.array([248, 242, 16]),\n",
    "        \"transcriptional_regulator\":np.array([248, 193, 87]),\n",
    "        \"packaging_assembly\":np.array([110, 110, 255]),\n",
    "        \"adsorption-related\":np.array([174, 214, 241]),\n",
    "        \"cell_wall_depolymerase\":np.array([255, 92, 139]),\n",
    "        \"RNA-associated\":np.array([223, 255, 0]),\n",
    "        \"nucleotide_metabolism\":np.array([249, 231, 159]),\n",
    "        \"ejection\":np.array([0,255,255]),\n",
    "        \"phosphorylation\":np.array([142, 68, 173]),\n",
    "        \"transferase\":np.array([151, 68, 0]),\n",
    "        \"reductase\":np.array([245, 183, 177]),\n",
    "        \"crispr\":np.array([171, 235, 198]),\n",
    "        \"anti-restriction\":np.array([171, 235, 198]),\n",
    "        \"sir2\":np.array([171, 235, 198]),\n",
    "        \"toxin\":np.array([171, 235, 198]),\n",
    "        \"super_infection\":np.array([171, 235, 198]),\n",
    "        \"lysis\":np.array([255, 92, 139]),\n",
    "        \"unknown\":np.array([218, 224, 224])}"
   ]
  },
  {
   "cell_type": "code",
   "execution_count": 4,
   "id": "89a29081-7161-4385-9a5d-b87bccd8c11a",
   "metadata": {},
   "outputs": [],
   "source": [
    "def create_genome_map(phage_id, empathi_preds, cols, total_prots, plot_legend=False):\n",
    "    preds = pd.DataFrame(empathi_preds.idxmax(axis=1), columns=[\"pred\"])\n",
    "    preds[\"num\"] = preds.index.str.rpartition(\"_\").get_level_values(2)\n",
    "    preds[\"id\"] = preds.index.str.rpartition(\"_\").get_level_values(0)\n",
    "    preds.num = preds.num.astype(int)\n",
    "\n",
    "    all_preds = pd.Series([\"unknown\"]*total_prots, name=\"pred\")\n",
    "    all_preds.index = all_preds.index + 1\n",
    "    preds = preds.loc[preds.id == phage_id]\n",
    "    preds.index = preds.num\n",
    "    all_preds = all_preds.drop(index=preds.index)\n",
    "    all_preds = pd.concat([all_preds, preds.drop(columns=[\"num\", \"id\"])]).sort_index()\n",
    "\n",
    "    data_3d = np.ndarray(shape=(2, all_preds.shape[0], 3), dtype=int)\n",
    "    for i in range(0, 2):\n",
    "        for j in range(0, all_preds.shape[0]):\n",
    "            data_3d[i][j] = cols[all_preds.loc[j+1, \"pred\"]]\n",
    "\n",
    "    plt.subplots(figsize=(20, 2))\n",
    "    plt.imshow(data_3d)\n",
    "    plt.yticks([])\n",
    "    plt.xticks([])\n",
    "\n",
    "    if plot_legend:\n",
    "        for entry in cols:\n",
    "            mycolor = cols[entry] / 256\n",
    "            plt.plot(0, 0, \"-\", color=mycolor, label=entry)\n",
    "\n",
    "        legend = plt.legend(ncol=len(cols)//2, loc='center', bbox_to_anchor=(0.5, 2))\n",
    "    #plt.savefig(f\"genome_map_empathi_{phage_id}.pdf\")\n",
    "    plt.show()"
   ]
  },
  {
   "cell_type": "code",
   "execution_count": 5,
   "id": "e2d7188b-399e-4229-a13b-845d8fb1a739",
   "metadata": {},
   "outputs": [],
   "source": [
    "genomesKeep = [\"PP079056.1\", \"PP079085.1\", \"M8_k141_924718_flag_3_multi_24.0006_len_41597\", \"M4_k141_35418_flag_1_multi_27.0000_len_48381\",\n",
    "               \"LN_4A01_VL_218_NODE_1_length_174356_cov_452.708355\", \"LN_7A03_VL_382_NODE_59_length_53592_cov_35.050208\"]"
   ]
  },
  {
   "cell_type": "markdown",
   "id": "6aaba085-63e5-4873-ac80-ec8fc8bed5de",
   "metadata": {},
   "source": [
    "# Empathi"
   ]
  },
  {
   "cell_type": "code",
   "execution_count": 27,
   "id": "a17fb5d1-d6c2-4ca8-ab30-379d78af00e4",
   "metadata": {},
   "outputs": [],
   "source": [
    "empathi = pd.read_csv(\"empathi_predictions_6genomes.csv\", index_col=0)\n",
    "empathi = empathi.sort_index(ascending=False)"
   ]
  },
  {
   "cell_type": "code",
   "execution_count": 28,
   "id": "21d4f980-be75-4e82-8dbc-6aa81291ed91",
   "metadata": {},
   "outputs": [],
   "source": [
    "general = ['pvp','DNA-associated', 'transcriptional_regulator','packaging_assembly', 'adsorption-related', 'cell_wall_depolymerase',\n",
    "       'RNA-associated', 'nucleotide_metabolism', 'ejection','phosphorylation', 'transferase', 'reductase', 'crispr',\n",
    "       'anti-restriction', 'sir2', 'toxin', 'super_infection', 'lysis']\n",
    "empathi_preds = empathi.loc[(empathi.loc[:, empathi.columns.isin(general)] > 0.5).sum(axis=1) != 0, general]"
   ]
  },
  {
   "cell_type": "code",
   "execution_count": 8,
   "id": "8ab8b9d5-d77f-48b7-a859-60195acd49a9",
   "metadata": {},
   "outputs": [
    {
     "name": "stdout",
     "output_type": "stream",
     "text": [
      "Number of proteins assigned a function in the 6 genomes kept in the article.\n",
      "Num preds at conf 95%: 260\n",
      "Num preds at conf 75%: 348\n",
      "Num preds at conf 50%: 414\n"
     ]
    }
   ],
   "source": [
    "print(\"Number of proteins assigned a function in the 6 genomes kept in the article.\")\n",
    "empathi_tmp = empathi.loc[empathi.index.str.rpartition(\"_\").get_level_values(0).isin(genomesKeep)]\n",
    "num95 = ((empathi_tmp.loc[:, empathi_tmp.columns.isin(general)] > 0.95).sum(axis=1) != 0).sum()\n",
    "num75 = ((empathi_tmp.loc[:, empathi_tmp.columns.isin(general)] > 0.75).sum(axis=1) != 0).sum()\n",
    "num50 = ((empathi_tmp.loc[:, empathi_tmp.columns.isin(general)] > 0.5).sum(axis=1) != 0).sum()\n",
    "print(f\"Num preds at conf 95%: {num95}\")\n",
    "print(f\"Num preds at conf 75%: {num75}\")\n",
    "print(f\"Num preds at conf 50%: {num50}\")"
   ]
  },
  {
   "cell_type": "code",
   "execution_count": 10,
   "id": "ecc2fac0-66dc-4657-a260-dd6c6be9ab38",
   "metadata": {},
   "outputs": [
    {
     "name": "stdout",
     "output_type": "stream",
     "text": [
      "Total num prots in 6 genomes: 574\n"
     ]
    }
   ],
   "source": [
    "print(f\"Total num prots in 6 genomes: {empathi.loc[empathi.index.str.rpartition('_').get_level_values(0).isin(genomesKeep)].shape[0]}\")"
   ]
  },
  {
   "cell_type": "code",
   "execution_count": 9,
   "id": "4170940e-8f5a-4a7b-b687-96050f21a504",
   "metadata": {},
   "outputs": [
    {
     "name": "stderr",
     "output_type": "stream",
     "text": [
      "/tmp/ipykernel_14481/582892442.py:2: SettingWithCopyWarning: \n",
      "A value is trying to be set on a copy of a slice from a DataFrame.\n",
      "Try using .loc[row_indexer,col_indexer] = value instead\n",
      "\n",
      "See the caveats in the documentation: https://pandas.pydata.org/pandas-docs/stable/user_guide/indexing.html#returning-a-view-versus-a-copy\n",
      "  tmp.loc[:, \"id\"] = tmp.index.str.rpartition('_').get_level_values(0)\n"
     ]
    },
    {
     "data": {
      "text/plain": [
       "id\n",
       "LN_4A01_VL_218_NODE_1_length_174356_cov_452.708355    261\n",
       "LN_7A03_VL_382_NODE_59_length_53592_cov_35.050208      78\n",
       "M4_k141_35418_flag_1_multi_27.0000_len_48381           65\n",
       "PP079085.1                                             64\n",
       "M8_k141_924718_flag_3_multi_24.0006_len_41597          60\n",
       "PP079056.1                                             46\n",
       "Name: count, dtype: int64"
      ]
     },
     "execution_count": 9,
     "metadata": {},
     "output_type": "execute_result"
    }
   ],
   "source": [
    "tmp = empathi.loc[empathi.index.str.rpartition('_').get_level_values(0).isin(genomesKeep)]\n",
    "tmp.loc[:, \"id\"] = tmp.index.str.rpartition('_').get_level_values(0)\n",
    "tmp.value_counts(\"id\")"
   ]
  },
  {
   "cell_type": "markdown",
   "id": "a47554d7-a578-4de9-af39-8db2f9503488",
   "metadata": {},
   "source": [
    "# Phrogs"
   ]
  },
  {
   "cell_type": "code",
   "execution_count": 3,
   "id": "c72e8228-7441-48fc-aa05-c20322ba374d",
   "metadata": {},
   "outputs": [],
   "source": [
    "def create_genome_map_phrogs(phage_id, preds, cols_phrogs, total_prots, plot_legend=False):\n",
    "    preds[\"num\"] = preds.index.str.rpartition(\"_\").get_level_values(2)\n",
    "    preds[\"id\"] = preds.index.str.rpartition(\"_\").get_level_values(0)\n",
    "    preds.num = preds.num.astype(int)\n",
    "\n",
    "    all_preds = pd.Series([\"unknown\"]*total_prots, name=\"Category\")\n",
    "    all_preds.index = all_preds.index + 1\n",
    "    preds = preds.loc[preds.id == phage_id]\n",
    "    preds.index = preds.num\n",
    "    all_preds = all_preds.drop(index=preds.index)\n",
    "    all_preds = pd.concat([all_preds, preds.drop(columns=[\"num\", \"id\"])]).sort_index()\n",
    "    all_preds.Category = all_preds.Category.str.replace(\"unknown function\", \"unknown\")\n",
    "\n",
    "    data_3d = np.ndarray(shape=(2, all_preds.shape[0], 3), dtype=int)\n",
    "    for i in range(0, 2):\n",
    "        for j in range(0, all_preds.shape[0]):\n",
    "            data_3d[i][j] = cols_phrogs[all_preds.loc[j+1, \"Category\"]]\n",
    "\n",
    "    plt.subplots(figsize=(20, 2))\n",
    "    plt.imshow(data_3d)\n",
    "    plt.yticks([])\n",
    "    plt.xticks([])\n",
    "\n",
    "    if plot_legend:\n",
    "        for entry in cols_phrogs:\n",
    "            mycolor = cols_phrogs[entry] / 256\n",
    "            plt.plot(0, 0, \"-\", color=mycolor, label=entry)\n",
    "\n",
    "        legend = plt.legend(ncol=len(cols_phrogs)//2, loc='center', bbox_to_anchor=(0.5, 2))\n",
    "    plt.savefig(f\"genome_map_phold_{phage_id}.pdf\")\n",
    "    plt.show()"
   ]
  },
  {
   "cell_type": "code",
   "execution_count": 4,
   "id": "32810c53-5f86-4079-83fe-55d2e70606fc",
   "metadata": {},
   "outputs": [],
   "source": [
    "cols_phrogs = {'tail':np.array([93, 173, 226]),\n",
    "        'DNA, RNA and nucleotide metabolism':np.array([247, 255, 98]),\n",
    "        'transcription regulation':np.array([248, 193, 87]),\n",
    "        \"head and packaging\":np.array([41, 128, 185]),\n",
    "        'integration and excision':np.array([247, 220, 111]),\n",
    "        'connector':np.array([174, 214, 241]),\n",
    "        \"moron, auxiliary metabolic gene and host takeover\":np.array([253, 254, 254]),\n",
    "        \"other\":np.array([173, 188, 183]),\n",
    "        \"lysis\":np.array([255, 92, 139]),\n",
    "        'unknown':np.array([218, 224, 224])}"
   ]
  },
  {
   "cell_type": "code",
   "execution_count": 11,
   "id": "53131764-ba2b-4846-9f91-c368ec273491",
   "metadata": {},
   "outputs": [],
   "source": [
    "anno = pd.read_csv(\"phrog_index.csv\") #as downloaded from PHROG website\n",
    "anno = anno.loc[:, [\"#phrog\", \"Annotation\", \"Category\"]]\n",
    "\n",
    "phrogs = pd.read_csv(\"phrogs/phrogs_hhsuite_db/results.filt.tsv\", sep=\"\\t\", header=None) #PHROG predictions for all proteins\n",
    "phrogs.columns = [\"query\", \"target\", \"pident\", \"length\", \"mismatch\", \"gapopen\", \"qstart\", \"qend\", \"sstart\", \"send\", \"evalue\", \"bitscore\"]\n",
    "phrogs = phrogs.loc[:, [\"query\", \"target\",\"evalue\"]]\n",
    "phrogs[\"query\"] = phrogs[\"query\"].astype(str)"
   ]
  },
  {
   "cell_type": "code",
   "execution_count": 17,
   "id": "1dce5f16-c9ac-4bc7-87d5-5e114ba84bfb",
   "metadata": {},
   "outputs": [
    {
     "name": "stdout",
     "output_type": "stream",
     "text": [
      "Num preds in 6 genomes that we kept: 232\n"
     ]
    }
   ],
   "source": [
    "phrogs_tmp = phrogs.loc[phrogs[\"query\"].str.split(\" \").str[0].str.rpartition(\"_\")[0].isin(genomesKeep)]\n",
    "print(f\"Num preds in 6 genomes that we kept: {len(phrogs_tmp.loc[:, 'query'].str.split(' ').str[0].unique())}\")"
   ]
  },
  {
   "cell_type": "code",
   "execution_count": 18,
   "id": "7e559c75-6044-4865-9320-3b4a499b29b0",
   "metadata": {},
   "outputs": [],
   "source": [
    "phrogs = pd.merge(phrogs, anno, how=\"left\", left_on=\"target\", right_on=\"#phrog\")\n",
    "phrogs = phrogs.dropna(subset=[\"Annotation\"])\n",
    "    \n",
    "phrogs = phrogs.loc[phrogs.sort_values(\"evalue\", ascending=True).loc[:, [\"query\"]].drop_duplicates().index, :]\n",
    "phrogs = phrogs.reset_index(drop=True)\n",
    "phrogs = phrogs.set_index(\"query\")\n",
    "phrogs.index.name = None\n",
    "    \n",
    "phrogs = phrogs.drop(columns=[\"target\", \"evalue\"])\n",
    "phrogs.index = phrogs.index.str.split(\" \").str[0]"
   ]
  },
  {
   "cell_type": "markdown",
   "id": "d0b88db7-7e04-4f34-b0e8-8c7ae32ba608",
   "metadata": {},
   "source": [
    "# VPF-PLM"
   ]
  },
  {
   "cell_type": "code",
   "execution_count": 17,
   "id": "c0d7748b-6c40-46e9-a592-6be14b0a6c3d",
   "metadata": {},
   "outputs": [],
   "source": [
    "vpf = pd.read_csv(\"vpf-plm/genomesKeep_function_predictions.csv\") #vpf-plm predictions for proteins in 6 genomes\n",
    "vpf.protein_id = vpf.protein_id.str.split(\" \").str[0].str.lstrip(\">\")\n",
    "vpf = vpf.rename(columns={\"class_phrog\": \"Category\"})\n",
    "vpf.index = vpf.protein_id\n",
    "vpf.index.name = None\n",
    "vpf=vpf.drop(columns=[\"protein_id\"])\n",
    "vpf = vpf.loc[vpf.Category != \"unknown\"].sort_values(\"phrog_model_score\")\n",
    "vpf = vpf[~vpf.index.duplicated(keep='first')]"
   ]
  },
  {
   "cell_type": "code",
   "execution_count": 69,
   "id": "cafadb53-6d35-49fd-bb4f-d2e77f040c69",
   "metadata": {},
   "outputs": [
    {
     "name": "stdout",
     "output_type": "stream",
     "text": [
      "Number of proteins that were predicted a function in the 6 genomes kept in the article.\n",
      "Num preds with conf >0.95: 120\n",
      "Num preds with conf >0.75: 154\n",
      "Num preds with conf >0.50: 188\n",
      "Num preds total: 202\n"
     ]
    }
   ],
   "source": [
    "print(\"Number of proteins that were predicted a function in the 6 genomes kept in the article.\")\n",
    "vpf_tmp = vpf.loc[vpf.index.str.rpartition(\"_\").get_level_values(0).isin(genomesKeep)]\n",
    "print(f\"Num preds with conf >0.95: {len(vpf_tmp.loc[(vpf_tmp.Category != 'unknown') & (vpf_tmp.phrog_model_score > 0.95)])}\")\n",
    "print(f\"Num preds with conf >0.75: {len(vpf_tmp.loc[(vpf_tmp.Category != 'unknown') & (vpf_tmp.phrog_model_score > 0.75)])}\")\n",
    "print(f\"Num preds with conf >0.50: {len(vpf_tmp.loc[(vpf_tmp.Category != 'unknown') & (vpf_tmp.phrog_model_score > 0.50)])}\")\n",
    "print(f\"Num preds total: {len(vpf_tmp.loc[vpf_tmp.Category != 'unknown'])}\")"
   ]
  },
  {
   "cell_type": "markdown",
   "id": "a7d42574-3af6-4594-b911-0b6d3d772a94",
   "metadata": {},
   "source": [
    "# Visualization"
   ]
  },
  {
   "cell_type": "code",
   "execution_count": 28,
   "id": "eb7b70e2-e2bb-4d2d-a606-93e416063943",
   "metadata": {
    "scrolled": true
   },
   "outputs": [
    {
     "name": "stdout",
     "output_type": "stream",
     "text": [
      "PP079092.1\n"
     ]
    },
    {
     "data": {
      "image/png": "[encoded data removed]",
      "text/plain": [
       "<Figure size 2000x200 with 1 Axes>"
      ]
     },
     "metadata": {},
     "output_type": "display_data"
    },
    {
     "data": {
      "image/png": "[encoded data removed]",
      "text/plain": [
       "<Figure size 2000x200 with 1 Axes>"
      ]
     },
     "metadata": {},
     "output_type": "display_data"
    },
    {
     "name": "stdout",
     "output_type": "stream",
     "text": [
      "PP079092.1\n"
     ]
    },
    {
     "data": {
      "image/png": "[encoded data removed]",
      "text/plain": [
       "<Figure size 2000x200 with 1 Axes>"
      ]
     },
     "metadata": {},
     "output_type": "display_data"
    },
    {
     "name": "stdout",
     "output_type": "stream",
     "text": [
      "PP079085.1\n"
     ]
    },
    {
     "data": {
      "image/png": "[encoded data removed]",
      "text/plain": [
       "<Figure size 2000x200 with 1 Axes>"
      ]
     },
     "metadata": {},
     "output_type": "display_data"
    },
    {
     "name": "stdout",
     "output_type": "stream",
     "text": [
      "PP079084.1\n"
     ]
    },
    {
     "data": {
      "image/png": "[encoded data removed]",
      "text/plain": [
       "<Figure size 2000x200 with 1 Axes>"
      ]
     },
     "metadata": {},
     "output_type": "display_data"
    },
    {
     "name": "stdout",
     "output_type": "stream",
     "text": [
      "PP079083.1\n"
     ]
    },
    {
     "data": {
      "image/png": "[encoded data removed]",
      "text/plain": [
       "<Figure size 2000x200 with 1 Axes>"
      ]
     },
     "metadata": {},
     "output_type": "display_data"
    },
    {
     "name": "stdout",
     "output_type": "stream",
     "text": [
      "PP079056.1\n"
     ]
    },
    {
     "data": {
      "image/png": "[encoded data removed]",
      "text/plain": [
       "<Figure size 2000x200 with 1 Axes>"
      ]
     },
     "metadata": {},
     "output_type": "display_data"
    },
    {
     "name": "stdout",
     "output_type": "stream",
     "text": [
      "M8_k141_924718_flag_3_multi_24.0006_len_41597\n"
     ]
    },
    {
     "data": {
      "image/png": "[encoded data removed]",
      "text/plain": [
       "<Figure size 2000x200 with 1 Axes>"
      ]
     },
     "metadata": {},
     "output_type": "display_data"
    },
    {
     "name": "stdout",
     "output_type": "stream",
     "text": [
      "M4_k141_35418_flag_1_multi_27.0000_len_48381\n"
     ]
    },
    {
     "data": {
      "image/png": "[encoded data removed]",
      "text/plain": [
       "<Figure size 2000x200 with 1 Axes>"
      ]
     },
     "metadata": {},
     "output_type": "display_data"
    },
    {
     "name": "stdout",
     "output_type": "stream",
     "text": [
      "M3_k141_417954_flag_3_multi_43.0000_len_41934\n"
     ]
    },
    {
     "data": {
      "image/png": "[encoded data removed]",
      "text/plain": [
       "<Figure size 2000x200 with 1 Axes>"
      ]
     },
     "metadata": {},
     "output_type": "display_data"
    },
    {
     "name": "stdout",
     "output_type": "stream",
     "text": [
      "M1_k141_967162_flag_3_multi_21.0007_len_31175\n"
     ]
    },
    {
     "data": {
      "image/png": "[encoded data removed]",
      "text/plain": [
       "<Figure size 2000x200 with 1 Axes>"
      ]
     },
     "metadata": {},
     "output_type": "display_data"
    },
    {
     "name": "stdout",
     "output_type": "stream",
     "text": [
      "M14_k141_85025_flag_1_multi_28.9056_len_52871\n"
     ]
    },
    {
     "data": {
      "image/png": "[encoded data removed]",
      "text/plain": [
       "<Figure size 2000x200 with 1 Axes>"
      ]
     },
     "metadata": {},
     "output_type": "display_data"
    },
    {
     "name": "stdout",
     "output_type": "stream",
     "text": [
      "LN_7A04_VL_383_NODE_1_length_113282_cov_27449.647231\n"
     ]
    },
    {
     "data": {
      "image/png": "[encoded data removed]",
      "text/plain": [
       "<Figure size 2000x200 with 1 Axes>"
      ]
     },
     "metadata": {},
     "output_type": "display_data"
    },
    {
     "name": "stdout",
     "output_type": "stream",
     "text": [
      "LN_7A03_VL_382_NODE_59_length_53592_cov_35.050208\n"
     ]
    },
    {
     "data": {
      "image/png": "[encoded data removed]",
      "text/plain": [
       "<Figure size 2000x200 with 1 Axes>"
      ]
     },
     "metadata": {},
     "output_type": "display_data"
    },
    {
     "name": "stdout",
     "output_type": "stream",
     "text": [
      "LN_7A02_VL_381_NODE_20_length_42315_cov_1222.371462\n"
     ]
    },
    {
     "data": {
      "image/png": "[encoded data removed]",
      "text/plain": [
       "<Figure size 2000x200 with 1 Axes>"
      ]
     },
     "metadata": {},
     "output_type": "display_data"
    },
    {
     "name": "stdout",
     "output_type": "stream",
     "text": [
      "LN_7A02_VL_381_NODE_143_length_7396_cov_8.951233\n"
     ]
    },
    {
     "data": {
      "image/png": "[encoded data removed]",
      "text/plain": [
       "<Figure size 2000x200 with 1 Axes>"
      ]
     },
     "metadata": {},
     "output_type": "display_data"
    },
    {
     "name": "stdout",
     "output_type": "stream",
     "text": [
      "LN_4A01_VL_218_NODE_1_length_174356_cov_452.708355\n"
     ]
    },
    {
     "data": {
      "image/png": "[encoded data removed]",
      "text/plain": [
       "<Figure size 2000x200 with 1 Axes>"
      ]
     },
     "metadata": {},
     "output_type": "display_data"
    }
   ],
   "source": [
    "print(\"PP079092.1\")\n",
    "total_prots = empathi.index.str.rpartition(\"_\").get_level_values(0).value_counts()[\"PP079092.1\"]\n",
    "create_genome_map(\"PP079092.1\", empathi_preds, cols, total_prots, plot_legend=True) #Empathi\n",
    "create_genome_map_phrogs(\"PP079092.1\", phrogs, cols_phrogs, total_prots, plot_legend=True) #phrogs\n",
    "\n",
    "for phage_id in empathi.index.str.rpartition(\"_\").get_level_values(0).unique():\n",
    "    print(phage_id)\n",
    "    total_prots = empathi.index.str.rpartition(\"_\").get_level_values(0).value_counts()[phage_id]\n",
    "\n",
    "    create_genome_map(phage_id, empathi_preds, cols, total_prots, plot_legend=False) #Empathi\n",
    "    #create_genome_map(phage_id, metaempathi_preds, cols, total_prots, plot_legend=False) #MetaEmpathi\n",
    "\n",
    "    create_genome_map_phrogs(phage_id, phrogs, cols_phrogs, total_prots, plot_legend=False) #phrogs\n",
    "    create_genome_map_phrogs(phage_id, vpf, cols_phrogs, total_prots, plot_legend=False) #vpf-plm"
   ]
  },
  {
   "cell_type": "markdown",
   "id": "195772be-e75d-465e-baca-b4eee79788b8",
   "metadata": {},
   "source": [
    "##### Proteins correctly classified by Empathi according to annotation more precise than PHROG category."
   ]
  },
  {
   "cell_type": "code",
   "execution_count": 17,
   "id": "90881c80-0725-4690-89ac-254afe84f861",
   "metadata": {},
   "outputs": [
    {
     "data": {
      "text/plain": [
       "#phrog                     phrog_6651\n",
       "Annotation    internal virion protein\n",
       "Category           head and packaging\n",
       "Name: PP079085.1_7, dtype: object"
      ]
     },
     "metadata": {},
     "output_type": "display_data"
    },
    {
     "data": {
      "text/plain": [
       "#phrog                      phrog_418\n",
       "Annotation    internal virion protein\n",
       "Category           head and packaging\n",
       "Name: PP079085.1_10, dtype: object"
      ]
     },
     "metadata": {},
     "output_type": "display_data"
    },
    {
     "data": {
      "text/plain": [
       "#phrog                      phrog_308\n",
       "Annotation    internal virion protein\n",
       "Category           head and packaging\n",
       "Name: PP079085.1_11, dtype: object"
      ]
     },
     "metadata": {},
     "output_type": "display_data"
    },
    {
     "data": {
      "text/plain": [
       "#phrog                phrog_2860\n",
       "Annotation             endolysin\n",
       "Category      head and packaging\n",
       "Name: PP079085.1_1, dtype: object"
      ]
     },
     "metadata": {},
     "output_type": "display_data"
    },
    {
     "data": {
      "text/plain": [
       "#phrog                phrog_2860\n",
       "Annotation             endolysin\n",
       "Category      head and packaging\n",
       "Name: PP079085.1_64, dtype: object"
      ]
     },
     "metadata": {},
     "output_type": "display_data"
    },
    {
     "data": {
      "text/plain": [
       "#phrog                    phrog_11494\n",
       "Annotation    terminase small subunit\n",
       "Category           head and packaging\n",
       "Name: PP079085.1_28, dtype: object"
      ]
     },
     "metadata": {},
     "output_type": "display_data"
    },
    {
     "data": {
      "text/plain": [
       "#phrog                        phrog_2\n",
       "Annotation    terminase large subunit\n",
       "Category           head and packaging\n",
       "Name: PP079085.1_27, dtype: object"
      ]
     },
     "metadata": {},
     "output_type": "display_data"
    },
    {
     "data": {
      "text/plain": [
       "#phrog                                              phrog_14945\n",
       "Annotation                                  glycosyltransferase\n",
       "Category      moron, auxiliary metabolic gene and host takeover\n",
       "Name: PP079085.1_17, dtype: object"
      ]
     },
     "metadata": {},
     "output_type": "display_data"
    },
    {
     "data": {
      "text/plain": [
       "#phrog                                              phrog_34859\n",
       "Annotation                                  glycosyltransferase\n",
       "Category      moron, auxiliary metabolic gene and host takeover\n",
       "Name: PP079085.1_16, dtype: object"
      ]
     },
     "metadata": {},
     "output_type": "display_data"
    }
   ],
   "source": [
    "#ejection proteins under the head and packaging category\n",
    "display(phrogs.loc[\"PP079085.1_7\"])\n",
    "display(phrogs.loc[\"PP079085.1_10\"])\n",
    "display(phrogs.loc[\"PP079085.1_11\"])\n",
    "\n",
    "#endolysins under the head and packaging category\n",
    "display(phrogs.loc[\"PP079085.1_1\"])\n",
    "display(phrogs.loc[\"PP079085.1_64\"])\n",
    "\n",
    "# terminase under the head and packaging category that empathi predicts as being DNA-associated packaging-related proteins\n",
    "display(phrogs.loc[\"PP079085.1_28\"]) #small subunit\n",
    "display(phrogs.loc[\"PP079085.1_27\"]) #large subunit\n",
    "\n",
    "# glycosyl transferases\n",
    "display(phrogs.loc[\"PP079085.1_17\"])\n",
    "display(phrogs.loc[\"PP079085.1_16\"])"
   ]
  },
  {
   "cell_type": "code",
   "execution_count": 31,
   "id": "8bd807d7-cf8c-46db-99db-a301b3515479",
   "metadata": {},
   "outputs": [
    {
     "data": {
      "text/plain": [
       "#phrog                      phrog_309\n",
       "Annotation    terminase small subunit\n",
       "Category           head and packaging\n",
       "Name: PP079056.1_32, dtype: object"
      ]
     },
     "metadata": {},
     "output_type": "display_data"
    }
   ],
   "source": [
    "display(phrogs.loc[\"PP079056.1_32\"]) #small subunit"
   ]
  },
  {
   "cell_type": "markdown",
   "id": "717d5cbd-76af-4fad-b74b-4b8c678f3685",
   "metadata": {},
   "source": [
    "# Phold"
   ]
  },
  {
   "cell_type": "code",
   "execution_count": 29,
   "id": "acea9c2a-84ff-4af2-ab32-66b8ab76d0d4",
   "metadata": {},
   "outputs": [],
   "source": [
    "phold = pd.read_csv(\"phold/phold_per_cds_predictions.tsv\", sep=\"\\t\") #fold predictions for proteins in 6 genomes\n",
    "phold[\"Category\"] = phold.function.mask(phold.function == \"unknown function\", \"unknown\")\n",
    "phold = phold.set_index(\"cds_id\")\n",
    "phold.index.name = None"
   ]
  },
  {
   "cell_type": "code",
   "execution_count": 9,
   "id": "cf3f054f-08bd-449b-960b-66abd5932d39",
   "metadata": {},
   "outputs": [
    {
     "name": "stdout",
     "output_type": "stream",
     "text": [
      "263 proteins with an annotated function.\n"
     ]
    }
   ],
   "source": [
    "print(len(phold.loc[phold.function != \"unknown function\"]), \"proteins with an annotated function.\")"
   ]
  },
  {
   "cell_type": "code",
   "execution_count": 10,
   "id": "105ed9ee-d736-48aa-a4b7-e8e4c2d7cd54",
   "metadata": {},
   "outputs": [
    {
     "data": {
      "text/plain": [
       "function\n",
       "unknown function                                     311\n",
       "DNA, RNA and nucleotide metabolism                    75\n",
       "head and packaging                                    53\n",
       "tail                                                  48\n",
       "other                                                 38\n",
       "connector                                             12\n",
       "lysis                                                 11\n",
       "moron, auxiliary metabolic gene and host takeover     10\n",
       "transcription regulation                               9\n",
       "integration and excision                               7\n",
       "Name: count, dtype: int64"
      ]
     },
     "execution_count": 10,
     "metadata": {},
     "output_type": "execute_result"
    }
   ],
   "source": [
    "phold.function.value_counts()"
   ]
  },
  {
   "cell_type": "code",
   "execution_count": 28,
   "id": "47dc945c-4fde-494d-be28-cb6d87cbbff1",
   "metadata": {
    "scrolled": true
   },
   "outputs": [
    {
     "name": "stdout",
     "output_type": "stream",
     "text": [
      "PP079056.1\n"
     ]
    },
    {
     "data": {
      "image/png": "[encoded data removed]",
      "text/plain": [
       "<Figure size 2000x200 with 1 Axes>"
      ]
     },
     "metadata": {},
     "output_type": "display_data"
    },
    {
     "name": "stdout",
     "output_type": "stream",
     "text": [
      "PP079085.1\n"
     ]
    },
    {
     "data": {
      "image/png": "[encoded data removed]",
      "text/plain": [
       "<Figure size 2000x200 with 1 Axes>"
      ]
     },
     "metadata": {},
     "output_type": "display_data"
    },
    {
     "name": "stdout",
     "output_type": "stream",
     "text": [
      "LN_4A01_VL_218_NODE_1_length_174356_cov_452.708355\n"
     ]
    },
    {
     "data": {
      "image/png": "[encoded data removed]",
      "text/plain": [
       "<Figure size 2000x200 with 1 Axes>"
      ]
     },
     "metadata": {},
     "output_type": "display_data"
    },
    {
     "name": "stdout",
     "output_type": "stream",
     "text": [
      "LN_7A03_VL_382_NODE_59_length_53592_cov_35.050208\n"
     ]
    },
    {
     "data": {
      "image/png": "[encoded data removed]",
      "text/plain": [
       "<Figure size 2000x200 with 1 Axes>"
      ]
     },
     "metadata": {},
     "output_type": "display_data"
    },
    {
     "name": "stdout",
     "output_type": "stream",
     "text": [
      "M4_k141_35418_flag_1_multi_27.0000_len_48381\n"
     ]
    },
    {
     "data": {
      "image/png": "[encoded data removed]",
      "text/plain": [
       "<Figure size 2000x200 with 1 Axes>"
      ]
     },
     "metadata": {},
     "output_type": "display_data"
    },
    {
     "name": "stdout",
     "output_type": "stream",
     "text": [
      "M8_k141_924718_flag_3_multi_24.0006_len_41597\n"
     ]
    },
    {
     "data": {
      "image/png": "[encoded data removed]",
      "text/plain": [
       "<Figure size 2000x200 with 1 Axes>"
      ]
     },
     "metadata": {},
     "output_type": "display_data"
    }
   ],
   "source": [
    "for phage_id in phold.index.str.rpartition(\"_\").get_level_values(0).unique():\n",
    "    print(phage_id)\n",
    "    total_prots = empathi.index.str.rpartition(\"_\").get_level_values(0).value_counts()[phage_id]\n",
    "    create_genome_map_phrogs(phage_id, phold, cols_phrogs, total_prots, plot_legend=False)"
   ]
  },
  {
   "cell_type": "code",
   "execution_count": 32,
   "id": "16b65a90-7fa7-4cc4-a49a-799f12798dc6",
   "metadata": {
    "scrolled": true
   },
   "outputs": [
    {
     "data": {
      "text/plain": [
       "function\n",
       "unknown function                                     126\n",
       "other                                                  9\n",
       "DNA, RNA and nucleotide metabolism                     5\n",
       "head and packaging                                     4\n",
       "tail                                                   4\n",
       "moron, auxiliary metabolic gene and host takeover      3\n",
       "connector                                              1\n",
       "integration and excision                               1\n",
       "transcription regulation                               1\n",
       "Name: count, dtype: int64"
      ]
     },
     "execution_count": 32,
     "metadata": {},
     "output_type": "execute_result"
    }
   ],
   "source": [
    "empathi_tmp = empathi.loc[empathi.index.str.rpartition(\"_\").get_level_values(0).isin(genomesKeep)]\n",
    "empathi_tmp = empathi_tmp.loc[(empathi_tmp.loc[:, empathi_tmp.columns.isin(general)] > 0.95).sum(axis=1) < 0.95]\n",
    "empathi_tmp = empathi_tmp.loc[empathi_tmp.Annotation != \"unknown\"]\n",
    "\n",
    "phold.loc[empathi_tmp.index].value_counts(\"function\")"
   ]
  },
  {
   "cell_type": "code",
   "execution_count": 37,
   "id": "555e90d1-4f9b-4e4a-a6f8-1aac0d4c20ae",
   "metadata": {
    "scrolled": true
   },
   "outputs": [
    {
     "data": {
      "text/plain": [
       "Annotation\n",
       "DNA-associated                                                           33\n",
       "pvp|tail                                                                 10\n",
       "pvp                                                                       8\n",
       "DNA-associated|integration                                                7\n",
       "packaging_assembly                                                        6\n",
       "RNA-associated                                                            5\n",
       "pvp|tail|tail_appendage                                                   5\n",
       "anti-restriction                                                          5\n",
       "DNA-associated|nuclease                                                   4\n",
       "super_infection                                                           3\n",
       "DNA-associated|anti-restriction                                           3\n",
       "lysis|holin                                                               3\n",
       "pvp|head-tail_joining|DNA-associated                                      2\n",
       "phosphorylation                                                           2\n",
       "transcriptional_regulator                                                 2\n",
       "DNA-associated|transcriptional_regulator|transcriptional_repressor        2\n",
       "DNA-associated|transcriptional_regulator                                  2\n",
       "DNA-associated|transferase|anti-restriction                               1\n",
       "pvp|capsid|major_capsid|tail                                              1\n",
       "DNA-associated|RNA-associated                                             1\n",
       "DNA-associated|helicase                                                   1\n",
       "pvp|tail|baseplate                                                        1\n",
       "pvp|tail|RNA-associated                                                   1\n",
       "pvp|tail|DNA-associated|nuclease                                          1\n",
       "pvp|tail|DNA-associated                                                   1\n",
       "DNA-associated|integration|DNA_polymerase                                 1\n",
       "DNA-associated|nuclease|cell_wall_depolymerase                            1\n",
       "pvp|head-tail_joining                                                     1\n",
       "pvp|capsid|major_capsid|tail|DNA-associated|transcriptional_regulator     1\n",
       "pvp|capsid|major_capsid|packaging_assembly                                1\n",
       "DNA-associated|transferase                                                1\n",
       "pvp|capsid|major_capsid|DNA-associated|RNA-associated                     1\n",
       "pvp|capsid|major_capsid                                                   1\n",
       "pvp|capsid                                                                1\n",
       "pvp|DNA-associated                                                        1\n",
       "DNA-associated|packaging_assembly                                         1\n",
       "DNA-associated|terminase                                                  1\n",
       "DNA-associated|terminase|packaging_assembly                               1\n",
       "DNA-associated|DNA_polymerase|terminase                                   1\n",
       "lysis|spanin                                                              1\n",
       "nucleotide_metabolism                                                     1\n",
       "Name: count, dtype: int64"
      ]
     },
     "execution_count": 37,
     "metadata": {},
     "output_type": "execute_result"
    }
   ],
   "source": [
    "phold_tmp = phold.loc[phold.function == \"unknown function\"]\n",
    "empathi_tmp = empathi.loc[phold_tmp.index]\n",
    "empathi_tmp = empathi_tmp.loc[empathi_tmp.Annotation != \"unknown\"]\n",
    "empathi_tmp = empathi_tmp.loc[(empathi_tmp.loc[:, empathi_tmp.columns.isin(general)] > 0.95).sum(axis=1) < 1]\n",
    "empathi_tmp.value_counts(\"Annotation\")"
   ]
  }
 ],
 "metadata": {
  "kernelspec": {
   "display_name": "Python 3 (ipykernel)",
   "language": "python",
   "name": "python3"
  },
  "language_info": {
   "codemirror_mode": {
    "name": "ipython",
    "version": 3
   },
   "file_extension": ".py",
   "mimetype": "text/x-python",
   "name": "python",
   "nbconvert_exporter": "python",
   "pygments_lexer": "ipython3",
   "version": "3.11.5"
  }
 },
 "nbformat": 4,
 "nbformat_minor": 5
}
