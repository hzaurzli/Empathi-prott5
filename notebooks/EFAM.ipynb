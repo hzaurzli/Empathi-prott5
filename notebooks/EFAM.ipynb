{
 "cells": [
  {
   "cell_type": "code",
   "execution_count": 1,
   "id": "13ae3932-ddb0-43c1-b7a5-e863ccdd2997",
   "metadata": {},
   "outputs": [],
   "source": [
    "import pandas as pd\n",
    "import numpy as np"
   ]
  },
  {
   "cell_type": "code",
   "execution_count": 2,
   "id": "d2b6fdad-9cb0-46b4-8bc8-45dded22604a",
   "metadata": {},
   "outputs": [],
   "source": [
    "gen = [\"packaging_assembly\", \"pvp\", \"nucleotide_metabolism\", \"RNA-associated\", \"DNA-associated\", \"lysis\", \n",
    "                  \"cell_wall_depolymerase\", \"super_infection\", \"toxin\", \"anti-restriction\", \"crispr\", \n",
    "                  \"sir2\", \"transferase\", \"reductase\", \"adsorption-related\", \"phosphorylation\", \"ejection\"]"
   ]
  },
  {
   "cell_type": "code",
   "execution_count": 5,
   "id": "27a05945-9066-4db9-bd8b-551a12e23264",
   "metadata": {},
   "outputs": [],
   "source": [
    "all_preds = pd.read_csv(\"EFAM/empathi_predictions_EFAM.csv\", index_col=0)"
   ]
  },
  {
   "cell_type": "code",
   "execution_count": null,
   "id": "02d635dc-155d-46b0-b93d-53641102b630",
   "metadata": {},
   "outputs": [],
   "source": [
    "all_preds_filt = all_preds.loc[(all_preds.loc[:, gen] > 0.95).sum(axis=1) >= 1]"
   ]
  },
  {
   "cell_type": "markdown",
   "id": "8a850270-f7aa-4134-bfaa-3218bdd9264e",
   "metadata": {},
   "source": [
    "# Compare annotated fraction"
   ]
  },
  {
   "cell_type": "code",
   "execution_count": 59,
   "id": "375d163a-8b8f-4c79-bd16-890151b92105",
   "metadata": {},
   "outputs": [],
   "source": [
    "df2 = pd.read_csv(\"EFAM/Final_Super_Condensed_Annotations-updated_efam.tsv\", sep=\"\\t\")\n",
    "prot2clust = df2.loc[:, [\"Cluster\", \"Annotation Status\", \"Proteins\"]]\n",
    "prot2clust.Proteins = prot2clust.Proteins.str.replace('[',\"\").str.replace(\"]\",\"\").str.replace(\"'\",\"\").str.replace(\" \", \"\").str.split(',')\n",
    "prot2clust = prot2clust.explode(\"Proteins\")\n",
    "prot2clust = prot2clust.set_index(\"Proteins\")\n",
    "prot2clust.index.name = None\n",
    "#prot2clust.index = prot2clust.index.str.replace(\"'\",\"\").str.replace(\" \", \"\")"
   ]
  },
  {
   "cell_type": "code",
   "execution_count": 7,
   "id": "7487bbda-dc65-45f8-9f11-ea32ad43cf19",
   "metadata": {},
   "outputs": [
    {
     "name": "stdout",
     "output_type": "stream",
     "text": [
      "445417 sequences not in EFAM final annotations file.\n"
     ]
    }
   ],
   "source": [
    "compare = pd.merge(prot2clust, all_preds, left_index=True, right_index=True, how=\"outer\")\n",
    "\n",
    "print(compare.Cluster.isna().sum(), \"sequences not in EFAM final annotations file.\")\n",
    "compare = compare.loc[~(compare.Cluster.isna())]"
   ]
  },
  {
   "cell_type": "code",
   "execution_count": 5,
   "id": "10e9f440-8d0d-4413-9fc3-15979987ff9e",
   "metadata": {},
   "outputs": [],
   "source": [
    "def eval_clust(df):\n",
    "    prevAnnotated = df[\"Annotation Status\"].iloc[0] == \"Annotated\"\n",
    "    empAnnotated = (df.Annotation != \"unknown\").any()\n",
    "    \n",
    "    #if (df.Annotation == \"unknown\").any():\n",
    "    #    display(df.Annotation)\n",
    "    #    print((df.Annotation != \"unknown\").any())\n",
    "\n",
    "    if prevAnnotated & empAnnotated:\n",
    "        return \"Cluster annotated by both\"\n",
    "    if (not prevAnnotated) & empAnnotated:\n",
    "        return \"Cluster only annotated by Empathi\"\n",
    "    if prevAnnotated & (not empAnnotated):\n",
    "        return \"Cluster only annotated by EFAM\"\n",
    "    if (not prevAnnotated) & (not empAnnotated):\n",
    "        return \"Cluster not annotated\""
   ]
  },
  {
   "cell_type": "code",
   "execution_count": 39,
   "id": "5ce272fd-f047-48eb-a4c7-5bc4fee25d74",
   "metadata": {},
   "outputs": [
    {
     "name": "stdout",
     "output_type": "stream",
     "text": [
      "Eval at 50% conf.\n"
     ]
    },
    {
     "data": {
      "text/plain": [
       "Cluster only annotated by Empathi    133948\n",
       "Cluster annotated by both             72422\n",
       "Cluster not annotated                 25932\n",
       "Cluster only annotated by EFAM         8009\n",
       "Name: count, dtype: int64"
      ]
     },
     "execution_count": 39,
     "metadata": {},
     "output_type": "execute_result"
    }
   ],
   "source": [
    "print(\"Eval at 50% conf.\")\n",
    "evaled = compare.groupby(\"Cluster\").apply(eval_clust)\n",
    "evaled.value_counts()"
   ]
  },
  {
   "cell_type": "code",
   "execution_count": 8,
   "id": "17637360-b9fe-427a-9248-df3d7db95987",
   "metadata": {},
   "outputs": [
    {
     "name": "stdout",
     "output_type": "stream",
     "text": [
      "Eval at 95% conf.\n"
     ]
    },
    {
     "name": "stderr",
     "output_type": "stream",
     "text": [
      "/tmp/ipykernel_163700/1975702434.py:4: DeprecationWarning: DataFrameGroupBy.apply operated on the grouping columns. This behavior is deprecated, and in a future version of pandas the grouping columns will be excluded from the operation. Either pass `include_groups=False` to exclude the groupings or explicitly select the grouping columns after groupby to silence this warning.\n",
      "  evaled = struct2.groupby(\"Cluster\").apply(eval_clust)\n"
     ]
    },
    {
     "data": {
      "text/plain": [
       "Cluster not annotated                87151\n",
       "Cluster only annotated by Empathi    72729\n",
       "Cluster annotated by both            66056\n",
       "Cluster only annotated by EFAM       14375\n",
       "Name: count, dtype: int64"
      ]
     },
     "execution_count": 8,
     "metadata": {},
     "output_type": "execute_result"
    }
   ],
   "source": [
    "print(\"Eval at 95% conf.\")\n",
    "compare2 = compare.copy()\n",
    "compare2[\"Annotation\"] = compare2.Annotation.where((compare2.loc[:, gen] > 0.95).sum(axis=1) >= 1, \"unknown\")\n",
    "evaled = compare2.groupby(\"Cluster\").apply(eval_clust)\n",
    "evaled.value_counts()"
   ]
  },
  {
   "cell_type": "code",
   "execution_count": 32,
   "id": "f360068d-c935-45c0-89bc-c54e3e7076c9",
   "metadata": {},
   "outputs": [
    {
     "name": "stdout",
     "output_type": "stream",
     "text": [
      "138785 clusters annotated by Empathi at 95% confidence.\n"
     ]
    }
   ],
   "source": [
    "print(72729+66056, \"clusters annotated by Empathi at 95% confidence.\")"
   ]
  },
  {
   "cell_type": "code",
   "execution_count": 14,
   "id": "ac062903-6ae1-4a50-a032-e202e1145539",
   "metadata": {},
   "outputs": [],
   "source": [
    "list_prev_unknown = list(evaled.loc[evaled == \"Cluster only annotated by Empathi\"].index)"
   ]
  },
  {
   "cell_type": "code",
   "execution_count": 9,
   "id": "46c02221-1706-47cc-a63e-bb816222cefe",
   "metadata": {},
   "outputs": [],
   "source": [
    "list_prev_known = list(evaled.loc[(evaled == \"Cluster only annotated by EFAM\") | (evaled == \"Cluster annotated by both\")].index)"
   ]
  },
  {
   "cell_type": "markdown",
   "id": "2d04e68d-582e-442e-bf60-9d49afe80208",
   "metadata": {},
   "source": [
    "# Entropy of clusters"
   ]
  },
  {
   "cell_type": "code",
   "execution_count": 35,
   "id": "278f2fbd-c002-4635-b0a7-57aae739fb43",
   "metadata": {},
   "outputs": [],
   "source": [
    "def cols_greater_than_index(row):\n",
    "    return \"|\".join(list(tmp.columns[row > 0.95]))\n",
    "\n",
    "# Apply the function to each row\n",
    "#tmp = struct2.drop(columns=[\"Cluster\", \"Annotation Status\", \"Annotation\"])\n",
    "#annos = tmp.apply(cols_greater_than_index, axis=1)\n",
    "\n",
    "#struct2 = pd.merge(struct.loc[:, [\"Cluster\", \"Annotation Status\"]], tmp, left_index=True, right_index=True)\n",
    "#annos.name = \"Annotation\"\n",
    "#struct2 = pd.merge(annos, struct2, left_index=True, right_index=True)\n",
    "#struct2.Annotation = struct2.Annotation.replace(\"\", \"unknown\")\n",
    "\n",
    "def redefine_annos(df):\n",
    "    tmp = df.drop(columns=[\"Cluster\", \"Annotation Status\", \"Annotation\"])\n",
    "    annos = tmp.apply(cols_greater_than_index, axis=1)\n",
    "\n",
    "    df = df.drop(columns=[\"Annotation\"])\n",
    "    annos.name = \"Annotation\"\n",
    "    df = pd.merge(annos, df, left_index=True, right_index=True)\n",
    "    df.Annotation = df.Annotation.replace(\"\", \"unknown\")\n",
    "\n",
    "    return df"
   ]
  },
  {
   "cell_type": "code",
   "execution_count": 12,
   "id": "94fa19b9-8321-4d2a-b8fe-e25c7ef31383",
   "metadata": {},
   "outputs": [],
   "source": [
    "def count_diff(df):\n",
    "    if len(df.Annotation.unique()) == 1: \n",
    "        if len(df) == 1:\n",
    "            return \"singleton cluster\" #singleton cluster\n",
    "        else:\n",
    "            return \"all same anno\" #all prots in cluster have same anno\n",
    "    elif (len(df.Annotation.unique()) == 2) & (\"unknown\" in df.Annotation.unique()): \n",
    "        return \"all same anno + unknown\" #all prots have same anno with at least one \"unknown\"\n",
    "    else:\n",
    "        list_unique = pd.Series(df.Annotation.unique()).str.split(\"|\")\n",
    "        \n",
    "        all_flags = []\n",
    "        for i in list_unique:\n",
    "            if \"unknown\" in i:\n",
    "                pass\n",
    "            else:\n",
    "                for j in i:\n",
    "                    flag=True\n",
    "                    for k in list_unique:\n",
    "                        if k == [\"unknown\"]:\n",
    "                            pass\n",
    "                        elif j not in k:\n",
    "                            flag=False\n",
    "                    all_flags.append(flag)\n",
    "                    \n",
    "                if np.array(all_flags).any():\n",
    "                    return \"at least one common anno\" # all clusters recieved at least 1 common anno with differences in secondary predictions\n",
    "                else:\n",
    "                    return \"at least 2 proteins with different anno\" # at least 2 proteins in cluster recieved completely different annotations"
   ]
  },
  {
   "cell_type": "markdown",
   "id": "dba03ab9-34d7-4a2f-bffa-8c34184dd767",
   "metadata": {},
   "source": [
    "#### On all clusters"
   ]
  },
  {
   "cell_type": "code",
   "execution_count": 35,
   "id": "ec0c9fba-f7c2-4d2b-af25-addac5b4faf1",
   "metadata": {},
   "outputs": [
    {
     "name": "stderr",
     "output_type": "stream",
     "text": [
      "/tmp/ipykernel_226437/2208859661.py:1: DeprecationWarning: DataFrameGroupBy.apply operated on the grouping columns. This behavior is deprecated, and in a future version of pandas the grouping columns will be excluded from the operation. Either pass `include_groups=False` to exclude the groupings or explicitly select the grouping columns after groupby to silence this warning.\n",
      "  counts = struct2.groupby(\"Cluster\").apply(count_diff)\n"
     ]
    },
    {
     "data": {
      "text/plain": [
       "all same anno                              170326\n",
       "at least one common anno                    32720\n",
       "all same anno + unknown                     30013\n",
       "at least 2 proteins with different anno      7252\n",
       "Name: count, dtype: int64"
      ]
     },
     "metadata": {},
     "output_type": "display_data"
    }
   ],
   "source": [
    "counts = compare2.groupby(\"Cluster\").apply(count_diff)\n",
    "display(counts.value_counts())"
   ]
  },
  {
   "cell_type": "markdown",
   "id": "7e8f6e05-6617-45bb-8f2a-63a4206b722b",
   "metadata": {},
   "source": [
    "#### On previously unknown clusters"
   ]
  },
  {
   "cell_type": "code",
   "execution_count": 41,
   "id": "b417ad9a-59b4-4195-93a8-807ba6ce52ae",
   "metadata": {},
   "outputs": [
    {
     "name": "stderr",
     "output_type": "stream",
     "text": [
      "/tmp/ipykernel_163700/4102927404.py:2: DeprecationWarning: DataFrameGroupBy.apply operated on the grouping columns. This behavior is deprecated, and in a future version of pandas the grouping columns will be excluded from the operation. Either pass `include_groups=False` to exclude the groupings or explicitly select the grouping columns after groupby to silence this warning.\n",
      "  counts = tmp.groupby(\"Cluster\").apply(count_diff)\n"
     ]
    },
    {
     "data": {
      "text/plain": [
       "all same anno                              44669\n",
       "at least one common anno                   17138\n",
       "singleton cluster                           9995\n",
       "at least 2 proteins with different anno      927\n",
       "Name: count, dtype: int64"
      ]
     },
     "metadata": {},
     "output_type": "display_data"
    }
   ],
   "source": [
    "liste = list(evaled.loc[evaled == \"Cluster annotated by both\"].index)\n",
    "preds = pd.merge(prot2clust, all_preds_filt, left_index=True, right_index=True)\n",
    "preds = redefine_annos(preds)\n",
    "\n",
    "tmp = preds.loc[~preds.Cluster.isin(list_prev_known)] #previously unknown clusters\n",
    "counts = tmp.groupby(\"Cluster\").apply(count_diff)\n",
    "display(counts.value_counts())"
   ]
  },
  {
   "cell_type": "markdown",
   "id": "22fab12a-e8b5-4649-a83c-f24a017ce053",
   "metadata": {},
   "source": [
    "#### On previously unknown clusters"
   ]
  },
  {
   "cell_type": "code",
   "execution_count": 42,
   "id": "a2780f92-59e7-4cd1-9a2b-ed1733258416",
   "metadata": {},
   "outputs": [
    {
     "name": "stderr",
     "output_type": "stream",
     "text": [
      "/tmp/ipykernel_163700/2303153914.py:6: DeprecationWarning: DataFrameGroupBy.apply operated on the grouping columns. This behavior is deprecated, and in a future version of pandas the grouping columns will be excluded from the operation. Either pass `include_groups=False` to exclude the groupings or explicitly select the grouping columns after groupby to silence this warning.\n",
      "  counts = tmp.groupby(\"Cluster\").apply(count_diff)\n"
     ]
    },
    {
     "data": {
      "text/plain": [
       "all same anno                              51856\n",
       "at least one common anno                   12201\n",
       "singleton cluster                           1600\n",
       "at least 2 proteins with different anno      399\n",
       "Name: count, dtype: int64"
      ]
     },
     "metadata": {},
     "output_type": "display_data"
    }
   ],
   "source": [
    "liste = list(evaled.loc[evaled == \"Cluster annotated by both\"].index)\n",
    "preds = pd.merge(prot2clust, all_preds_filt, left_index=True, right_index=True)\n",
    "preds = redefine_annos(preds)\n",
    "\n",
    "tmp = preds.loc[preds.Cluster.isin(list_prev_known)] #previously unknown clusters\n",
    "counts = tmp.groupby(\"Cluster\").apply(count_diff)\n",
    "display(counts.value_counts())"
   ]
  },
  {
   "cell_type": "markdown",
   "id": "35147f83-e669-401c-903b-edbb8ea12e85",
   "metadata": {},
   "source": [
    "# Virion proteins"
   ]
  },
  {
   "cell_type": "code",
   "execution_count": 60,
   "id": "20b6fb22-2719-44ab-b8f4-d08d54a1f494",
   "metadata": {},
   "outputs": [],
   "source": [
    "df4 = pd.read_csv(\"EFAM/Peptide_to_protein_mapping_efam.tsv\", sep=\"\\t\")"
   ]
  },
  {
   "cell_type": "code",
   "execution_count": 9,
   "id": "2f5983d1-0c4c-4759-a4e6-420a2d783c92",
   "metadata": {},
   "outputs": [],
   "source": [
    "virion = prot2clust.loc[prot2clust.index.isin(list(df4[\"Protein Name\"])), :]"
   ]
  },
  {
   "cell_type": "code",
   "execution_count": 69,
   "id": "192c8923-4f3d-4312-bc70-1f6bf7ccde6f",
   "metadata": {},
   "outputs": [
    {
     "name": "stdout",
     "output_type": "stream",
     "text": [
      "29355 total virion proteins in mapping dataset.\n",
      "29036 predicted as PVP.\n",
      "5 proteins predicted as pvp with confidence below 0.95.\n",
      "314 proteins predicted as non-pvp\n"
     ]
    },
    {
     "data": {
      "text/plain": [
       "Annotation\n",
       "DNA-associated|nuclease                                                                         47\n",
       "nucleotide_metabolism|reductase                                                                 42\n",
       "DNA-associated|ejection                                                                         37\n",
       "DNA-associated|DNA_polymerase                                                                   28\n",
       "transferase                                                                                     19\n",
       "packaging_assembly                                                                              16\n",
       "DNA-associated                                                                                  14\n",
       "DNA-associated|helicase                                                                         14\n",
       "DNA-associated|terminase|packaging_assembly                                                     13\n",
       "DNA-associated|transcriptional_regulator                                                        12\n",
       "cell_wall_depolymerase|lysis|endolysin                                                          11\n",
       "ejection                                                                                         7\n",
       "phosphorylation                                                                                  7\n",
       "DNA-associated|primase                                                                           6\n",
       "cell_wall_depolymerase                                                                           6\n",
       "DNA-associated|annealing                                                                         5\n",
       "nucleotide_metabolism                                                                            5\n",
       "DNA-associated|transferase|anti-restriction                                                      5\n",
       "DNA-associated|integration                                                                       4\n",
       "DNA-associated|nuclease|crispr                                                                   3\n",
       "DNA-associated|transcriptional_regulator|transcriptional_activator|transcriptional_repressor     3\n",
       "DNA-associated|nuclease|cell_wall_depolymerase                                                   1\n",
       "cell_wall_depolymerase|ejection|lysis|endolysin                                                  1\n",
       "RNA-associated|transferase                                                                       1\n",
       "DNA-associated|nuclease|DNA_polymerase                                                           1\n",
       "lysis|holin                                                                                      1\n",
       "lysis|holin|spanin                                                                               1\n",
       "DNA-associated|nuclease|transcriptional_regulator|transcriptional_repressor                      1\n",
       "DNA-associated|transcriptional_regulator|transcriptional_repressor                               1\n",
       "DNA-associated|integration|nuclease|transcriptional_regulator|transcriptional_repressor          1\n",
       "DNA-associated|terminase|transcriptional_regulator|transcriptional_repressor                     1\n",
       "Name: count, dtype: int64"
      ]
     },
     "execution_count": 69,
     "metadata": {},
     "output_type": "execute_result"
    }
   ],
   "source": [
    "all_preds_filt = all_preds.loc[(all_preds.loc[:, gen] > 0.95).sum(axis=1) >= 1]\n",
    "all_preds_filt = all_preds_filt.loc[all_preds_filt.index.isin(virion.index)]\n",
    "print(len(all_preds_filt), \"total virion proteins in mapping dataset.\")\n",
    "print(len(all_preds_filt.loc[all_preds_filt.pvp > 0.95]), \"predicted as PVP.\")\n",
    "print(len(all_preds_filt.loc[(all_preds_filt.pvp < 0.95) & (all_preds_filt.pvp > 0.5)]), \"proteins predicted as pvp with confidence below 0.95.\")\n",
    "print(len(all_preds_filt.loc[all_preds_filt.pvp < 0.5]), \"proteins predicted as non-pvp\") \n",
    "all_preds_filt.loc[all_preds_filt.pvp < 0.5].Annotation.value_counts()[:40]"
   ]
  },
  {
   "cell_type": "code",
   "execution_count": 79,
   "id": "410a84b4-a285-4ef2-8c81-255e7da155ed",
   "metadata": {},
   "outputs": [
    {
     "name": "stdout",
     "output_type": "stream",
     "text": [
      "2529 clusters in metap dataset also present in original fasta file.\n"
     ]
    }
   ],
   "source": [
    "tmp = pd.merge(all_preds_filt, virion, left_index=True, right_index=True, how=\"inner\").reset_index().drop_duplicates(subset=\"index\").Cluster.nunique()\n",
    "print(tmp, \"clusters in metap dataset also present in original fasta file.\")"
   ]
  },
  {
   "cell_type": "code",
   "execution_count": 86,
   "id": "bc35bfb6-3c6b-4e57-9a1f-fd95694dd311",
   "metadata": {},
   "outputs": [
    {
     "name": "stdout",
     "output_type": "stream",
     "text": [
      "2400 clusters predicted as PVP.\n"
     ]
    }
   ],
   "source": [
    "tmp = pd.merge(all_preds_filt, virion, left_index=True, right_index=True, how=\"inner\").reset_index().drop_duplicates(subset=\"index\")\n",
    "print(tmp.loc[tmp.pvp > 0.95].Cluster.nunique(), \"clusters predicted as PVP.\")"
   ]
  },
  {
   "cell_type": "code",
   "execution_count": 88,
   "id": "bf279f1f-3219-4f28-926e-fb2db028fa09",
   "metadata": {},
   "outputs": [
    {
     "name": "stdout",
     "output_type": "stream",
     "text": [
      "129 clusters not predicted as PVP\n"
     ]
    }
   ],
   "source": [
    "print(2529 - 2400, \"clusters not predicted as PVP\")"
   ]
  }
 ],
 "metadata": {
  "kernelspec": {
   "display_name": "Python 3 (ipykernel)",
   "language": "python",
   "name": "python3"
  },
  "language_info": {
   "codemirror_mode": {
    "name": "ipython",
    "version": 3
   },
   "file_extension": ".py",
   "mimetype": "text/x-python",
   "name": "python",
   "nbconvert_exporter": "python",
   "pygments_lexer": "ipython3",
   "version": "3.11.5"
  }
 },
 "nbformat": 4,
 "nbformat_minor": 5
}
